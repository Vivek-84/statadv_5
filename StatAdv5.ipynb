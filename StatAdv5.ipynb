{
 "cells": [
  {
   "cell_type": "markdown",
   "id": "076cf7b2",
   "metadata": {},
   "source": [
    "# Calculate the 95% confidence interval for a sample of data with a mean of 50 and a standard deviation of 5 using Python. Interpret the results.\n"
   ]
  },
  {
   "cell_type": "code",
   "execution_count": 1,
   "id": "f2ca6b6b",
   "metadata": {},
   "outputs": [
    {
     "name": "stdout",
     "output_type": "stream",
     "text": [
      "At confidence interval 95%\n",
      "Upper Limit: 51.789194143717154\n",
      "Lower Limit: 48.210805856282846\n"
     ]
    }
   ],
   "source": [
    "\n",
    "import scipy.stats as stats\n",
    "import math\n",
    "#Given\n",
    "mean = 50\n",
    "std_dev = 5\n",
    "confidence_level = 0.95\n",
    "sample_size = 30\n",
    "# Calculation of MO\n",
    "z_score = stats.norm.ppf(1-(1- confidence_level)/2)\n",
    "margin_of_error  = z_score*(std_dev / math.sqrt(sample_size))\n",
    "# Calculation of Confidence Interval\n",
    "Upper_Limit = mean + margin_of_error\n",
    "Lower_Limit = mean - margin_of_error\n",
    "print(\"At confidence interval 95%\")\n",
    "print(\"Upper Limit:\", Upper_Limit)\n",
    "print(\"Lower Limit:\",Lower_Limit)"
   ]
  },
  {
   "cell_type": "markdown",
   "id": "6a560345",
   "metadata": {},
   "source": [
    "# Conduct a chi-square goodness of fit test to determine if the distribution of colors of M&Ms in a bag matches the expected distribution of 20% blue, 20% orange, 20% green, 10% yellow, 10% red, and 20% brown. Use Python to perform the test with a significance level of 0.05\n",
    "\n"
   ]
  },
  {
   "cell_type": "code",
   "execution_count": 10,
   "id": "9f201b96",
   "metadata": {},
   "outputs": [],
   "source": [
    "import scipy.stats as stat\n",
    "import numpy as np\n",
    "observed_data = np.array([60,50,70,50,30,80])\n",
    "expected_data = np.array([0.20,0.20,0.20,0.10,0.10,0.20])*np.sum(observed_data)"
   ]
  },
  {
   "cell_type": "code",
   "execution_count": 11,
   "id": "caa7ff64",
   "metadata": {},
   "outputs": [
    {
     "data": {
      "text/plain": [
       "340"
      ]
     },
     "execution_count": 11,
     "metadata": {},
     "output_type": "execute_result"
    }
   ],
   "source": [
    "sum(observed_data)"
   ]
  },
  {
   "cell_type": "code",
   "execution_count": 12,
   "id": "5f3006fe",
   "metadata": {},
   "outputs": [
    {
     "data": {
      "text/plain": [
       "340.0"
      ]
     },
     "execution_count": 12,
     "metadata": {},
     "output_type": "execute_result"
    }
   ],
   "source": [
    "sum(expected_data)"
   ]
  },
  {
   "cell_type": "code",
   "execution_count": 13,
   "id": "6addbdf2",
   "metadata": {},
   "outputs": [],
   "source": [
    "#Chi-Square goodness of Fit Test\n",
    "chisquare_test_statistic,p_value=stat.chisquare(observed_data,expected_data)"
   ]
  },
  {
   "cell_type": "code",
   "execution_count": 14,
   "id": "cb6235a8",
   "metadata": {},
   "outputs": [
    {
     "data": {
      "text/plain": [
       "(15.88235294117647, 0.007188112970385573)"
      ]
     },
     "execution_count": 14,
     "metadata": {},
     "output_type": "execute_result"
    }
   ],
   "source": [
    "chisquare_test_statistic,p_value"
   ]
  },
  {
   "cell_type": "code",
   "execution_count": null,
   "id": "6b72f539",
   "metadata": {},
   "outputs": [],
   "source": [
    "# find the critical value\n",
    "significance_value = 0.05\n",
    "dof = len(expected_data) - 1\n",
    "\n",
    "critical_value= stat.chi2.ppf(1-significance_value,dof)\n",
    "print(dof,\",\",critical_value)"
   ]
  },
  {
   "cell_type": "code",
   "execution_count": 17,
   "id": "fa034285",
   "metadata": {},
   "outputs": [
    {
     "name": "stdout",
     "output_type": "stream",
     "text": [
      "Reject the Null Hypothesis\n"
     ]
    }
   ],
   "source": [
    "if chisquare_test_statistic > critical_value :\n",
    "    print(\"Reject the Null Hypothesis\")\n",
    "else:\n",
    "    print(\"Fail to Reject The Null Hypothesis\")"
   ]
  },
  {
   "cell_type": "markdown",
   "id": "cac40a58",
   "metadata": {},
   "source": [
    "# Use Python to calculate the chi-square statistic and p-value for a contingency table with the following data:\n"
   ]
  },
  {
   "cell_type": "code",
   "execution_count": 18,
   "id": "906f5efa",
   "metadata": {},
   "outputs": [],
   "source": [
    "#           GroupA   GroupB     \n",
    "# Outcome1   20      15\n",
    "# Outcome2   10      25\n",
    "# Outcome3   15      20"
   ]
  },
  {
   "cell_type": "code",
   "execution_count": 25,
   "id": "49bd1218",
   "metadata": {},
   "outputs": [
    {
     "name": "stdout",
     "output_type": "stream",
     "text": [
      "Chi-Square Statistic: 5.833333333333334\n",
      "p-value: 0.05411376622282158\n"
     ]
    }
   ],
   "source": [
    "import numpy as np\n",
    "from scipy.stats import chi2_contingency\n",
    "\n",
    "# Create the contingency table\n",
    "observed_data = np.array([[20, 15], [10, 25], [15, 20]])\n",
    "\n",
    "# Perform the chi-square test for independence\n",
    "chi2_stat, p_value, dof, expected = chi2_contingency(observed_data)\n",
    "\n",
    "# Print the results\n",
    "print(\"Chi-Square Statistic:\", chi2_stat)\n",
    "print(\"p-value:\", p_value)\n"
   ]
  },
  {
   "cell_type": "markdown",
   "id": "93b0164d",
   "metadata": {},
   "source": [
    "# A study of the prevalence of smoking in a population of 500 individuals found that 60 individuals smoked. Use Python to calculate the 95% confidence interval for the true proportion of individuals in the population who smoke.\n",
    "\n"
   ]
  },
  {
   "cell_type": "code",
   "execution_count": 26,
   "id": "c148bf25",
   "metadata": {},
   "outputs": [
    {
     "name": "stdout",
     "output_type": "stream",
     "text": [
      "95% Confidence Interval for the true proportion of smokers:\n",
      "Lower Bound: 9.437490012636914\n",
      "Upper Bound: 15.141959862441059\n"
     ]
    }
   ],
   "source": [
    "import scipy.stats as stats\n",
    "import math\n",
    "\n",
    "# Given values\n",
    "sample_size = 500\n",
    "observed_successes = 60\n",
    "confidence_level = 0.95\n",
    "\n",
    "# Calculate the proportion of successes in the sample\n",
    "sample_proportion = observed_successes / sample_size\n",
    "\n",
    "# Calculate the critical value for the desired confidence level\n",
    "z_critical = stats.norm.ppf(1 - (1 - confidence_level) / 2)\n",
    "\n",
    "# Calculate the Wilson score interval\n",
    "lower_bound = (sample_proportion + z_critical**2 / (2 * sample_size) - z_critical *\n",
    "               math.sqrt((sample_proportion * (1 - sample_proportion) + z_critical**2 / (4 * sample_size)) / sample_size)) / (1 + z_critical**2 / sample_size)\n",
    "upper_bound = (sample_proportion + z_critical**2 / (2 * sample_size) + z_critical *\n",
    "               math.sqrt((sample_proportion * (1 - sample_proportion) + z_critical**2 / (4 * sample_size)) / sample_size)) / (1 + z_critical**2 / sample_size)\n",
    "\n",
    "# Convert bounds to percentages\n",
    "lower_bound *= 100\n",
    "upper_bound *= 100\n",
    "\n",
    "# Print the results\n",
    "print(\"95% Confidence Interval for the true proportion of smokers:\")\n",
    "print(\"Lower Bound:\", lower_bound)\n",
    "print(\"Upper Bound:\", upper_bound)\n"
   ]
  },
  {
   "cell_type": "markdown",
   "id": "fd3f3239",
   "metadata": {},
   "source": [
    "# Calculate the 90% confidence interval for a sample of data with a mean of 75 and a standard deviation of 12 using Python. Interpret the results.\n"
   ]
  },
  {
   "cell_type": "code",
   "execution_count": 28,
   "id": "9924d7ac",
   "metadata": {},
   "outputs": [
    {
     "name": "stdout",
     "output_type": "stream",
     "text": [
      "90% Confidence Interval:\n",
      "Lower Bound: 71.39630625889797\n",
      "Upper Bound: 78.60369374110203\n"
     ]
    }
   ],
   "source": [
    "import scipy.stats as stats\n",
    "\n",
    "# Given values\n",
    "sample_mean = 75\n",
    "sample_std_dev = 12\n",
    "confidence_level = 0.90\n",
    "sample_size = 30  # Let Sample Size is 30\n",
    "\n",
    "# Calculate the margin of error (ME)\n",
    "z_critical = stats.norm.ppf(1 - (1 - confidence_level) / 2)\n",
    "margin_of_error = z_critical * (sample_std_dev / (sample_size ** 0.5))\n",
    "\n",
    "# Calculate the confidence interval\n",
    "lower_bound = sample_mean - margin_of_error\n",
    "upper_bound = sample_mean + margin_of_error\n",
    "\n",
    "# Print the results\n",
    "print(\"90% Confidence Interval:\")\n",
    "print(\"Lower Bound:\", lower_bound)\n",
    "print(\"Upper Bound:\", upper_bound)\n"
   ]
  },
  {
   "cell_type": "markdown",
   "id": "75c71e4e",
   "metadata": {},
   "source": [
    "# Use Python to plot the chi-square distribution with 10 degrees of freedom. Label the axes and shade the area corresponding to a chi-square statistic of 15\n"
   ]
  },
  {
   "cell_type": "code",
   "execution_count": 29,
   "id": "a33bba09",
   "metadata": {},
   "outputs": [
    {
     "data": {
      "image/png": "[encoded data removed]",
      "text/plain": [
       "<Figure size 1000x600 with 1 Axes>"
      ]
     },
     "metadata": {},
     "output_type": "display_data"
    }
   ],
   "source": [
    "import numpy as np\n",
    "import matplotlib.pyplot as plt\n",
    "import scipy.stats as stats\n",
    "\n",
    "# Degrees of freedom\n",
    "df = 10\n",
    "\n",
    "# Create an x range for the plot\n",
    "x = np.linspace(0, 30, 1000)  # Adjust the range based on your needs\n",
    "\n",
    "# Calculate the chi-square probability density function (PDF)\n",
    "chi_square_pdf = stats.chi2.pdf(x, df)\n",
    "\n",
    "# Create the plot\n",
    "plt.figure(figsize=(10, 6))\n",
    "plt.plot(x, chi_square_pdf, label=f\"df = {df}\")\n",
    "\n",
    "# Shade the area corresponding to a chi-square statistic of 15\n",
    "x_shaded = np.linspace(15, 30, 1000)\n",
    "y_shaded = stats.chi2.pdf(x_shaded, df)\n",
    "plt.fill_between(x_shaded, y_shaded, color='blue', alpha=0.3, label='Area for chi^2 = 15')\n",
    "\n",
    "# Add labels and a legend\n",
    "plt.xlabel('Chi-Square Value')\n",
    "plt.ylabel('Probability Density Function')\n",
    "plt.title('Chi-Square Distribution')\n",
    "plt.legend()\n",
    "\n",
    "# Show the plot\n",
    "plt.show()\n"
   ]
  },
  {
   "cell_type": "markdown",
   "id": "3128d356",
   "metadata": {},
   "source": [
    "# A random sample of 1000 people was asked if they preferred Coke or Pepsi. Of the sample, 520 preferred Coke. Calculate a 99% confidence interval for the true proportion of people in the population who prefer Coke.\n",
    "\n"
   ]
  },
  {
   "cell_type": "code",
   "execution_count": 30,
   "id": "2678d03a",
   "metadata": {},
   "outputs": [
    {
     "name": "stdout",
     "output_type": "stream",
     "text": [
      "99% Confidence Interval for the true proportion of people who prefer Coke:\n",
      "Lower Bound: 47.93074550950342\n",
      "Upper Bound: 56.042889830882956\n"
     ]
    }
   ],
   "source": [
    "import scipy.stats as stats\n",
    "import math\n",
    "\n",
    "# Given values\n",
    "sample_size = 1000\n",
    "observed_successes = 520\n",
    "confidence_level = 0.99\n",
    "\n",
    "# Calculate the proportion of successes in the sample\n",
    "sample_proportion = observed_successes / sample_size\n",
    "\n",
    "# Calculate the critical value for the desired confidence level\n",
    "z_critical = stats.norm.ppf(1 - (1 - confidence_level) / 2)\n",
    "\n",
    "# Calculate the Wilson score interval\n",
    "lower_bound = (sample_proportion + z_critical**2 / (2 * sample_size) - z_critical *\n",
    "               math.sqrt((sample_proportion * (1 - sample_proportion) + z_critical**2 / (4 * sample_size)) / sample_size)) / (1 + z_critical**2 / sample_size)\n",
    "upper_bound = (sample_proportion + z_critical**2 / (2 * sample_size) + z_critical *\n",
    "               math.sqrt((sample_proportion * (1 - sample_proportion) + z_critical**2 / (4 * sample_size)) / sample_size)) / (1 + z_critical**2 / sample_size)\n",
    "\n",
    "# Convert bounds to percentages\n",
    "lower_bound *= 100\n",
    "upper_bound *= 100\n",
    "\n",
    "# Print the results\n",
    "print(\"99% Confidence Interval for the true proportion of people who prefer Coke:\")\n",
    "print(\"Lower Bound:\", lower_bound)\n",
    "print(\"Upper Bound:\", upper_bound)\n"
   ]
  },
  {
   "cell_type": "markdown",
   "id": "f5e1362f",
   "metadata": {},
   "source": [
    "# A researcher hypothesizes that a coin is biased towards tails. They flip the coin 100 times and observe 45 tails. Conduct a chi-square goodness of fit test to determine if the observed frequencies match the expected frequencies of a fair coin. Use a significance level of 0.05.\n",
    "\n"
   ]
  },
  {
   "cell_type": "code",
   "execution_count": 32,
   "id": "42492520",
   "metadata": {},
   "outputs": [
    {
     "name": "stdout",
     "output_type": "stream",
     "text": [
      "Chi-Square Statistic: 1.0\n",
      "p-value: 0.31731050786291115\n",
      "Fail to reject the null hypothesis: The observed frequencies match the expected frequencies of a fair coin.\n"
     ]
    }
   ],
   "source": [
    "import numpy as np\n",
    "from scipy.stats import chisquare\n",
    "\n",
    "# Observed frequencies\n",
    "observed_frequencies = np.array([55, 45])  # 55 heads, 45 tails\n",
    "\n",
    "# Expected frequencies (for a fair coin)\n",
    "expected_frequencies = np.array([50, 50])\n",
    "\n",
    "# Perform the chi-square goodness of fit test\n",
    "chi2_stat, p_value = chisquare(observed_frequencies, f_exp=expected_frequencies)\n",
    "\n",
    "# Significance level\n",
    "alpha = 0.05\n",
    "\n",
    "# Print the results\n",
    "print(\"Chi-Square Statistic:\", chi2_stat)\n",
    "print(\"p-value:\", p_value)\n",
    "\n",
    "if p_value < alpha:\n",
    "    print(\"Reject the null hypothesis: The observed frequencies do not match the expected frequencies of a fair coin.\")\n",
    "else:\n",
    "    print(\"Fail to reject the null hypothesis: The observed frequencies match the expected frequencies of a fair coin.\")\n"
   ]
  },
  {
   "cell_type": "markdown",
   "id": "afcca25a",
   "metadata": {},
   "source": [
    "# A study was conducted to determine if there is an association between smoking status (smoker or non-smoker) and lung cancer diagnosis (yes or no). The results are shown in the contingency table below. Conduct a chi-square test for independence to determine if there is a significant association between smoking status and lung cancer diagnosis. \n",
    "\n",
    "\n"
   ]
  },
  {
   "cell_type": "code",
   "execution_count": 33,
   "id": "28ba042f",
   "metadata": {},
   "outputs": [],
   "source": [
    "#             Lung Cancer: Yes    Lung Cancer: No\n",
    "# Smoker          60               140\n",
    "# Non-smoker      30               170"
   ]
  },
  {
   "cell_type": "code",
   "execution_count": 34,
   "id": "507ac64b",
   "metadata": {},
   "outputs": [
    {
     "name": "stdout",
     "output_type": "stream",
     "text": [
      "Chi-Square Statistic: 12.057347670250895\n",
      "p-value: 0.0005158863863703744\n",
      "Reject the null hypothesis: There is a significant association between smoking status and lung cancer diagnosis.\n"
     ]
    }
   ],
   "source": [
    "import numpy as np\n",
    "from scipy.stats import chi2_contingency\n",
    "\n",
    "# Create the contingency table\n",
    "observed_data = np.array([[60, 140], [30, 170]])\n",
    "\n",
    "# Perform the chi-square test for independence\n",
    "chi2_stat, p_value, dof, expected = chi2_contingency(observed_data)\n",
    "\n",
    "# Significance level\n",
    "alpha = 0.05\n",
    "\n",
    "# Print the results\n",
    "print(\"Chi-Square Statistic:\", chi2_stat)\n",
    "print(\"p-value:\", p_value)\n",
    "\n",
    "if p_value < alpha:\n",
    "    print(\"Reject the null hypothesis: There is a significant association between smoking status and lung cancer diagnosis.\")\n",
    "else:\n",
    "    print(\"Fail to reject the null hypothesis: There is no significant association between smoking status and lung cancer diagnosis.\")\n"
   ]
  },
  {
   "cell_type": "markdown",
   "id": "2f728636",
   "metadata": {},
   "source": [
    "# A study was conducted to determine if the proportion of people who prefer milk chocolate, dark chocolate, or white chocolate is different in the U.S. versus the U.K. A random sample of 500 people from the U.S. and a random sample of 500 people from the U.K. were surveyed. The results are shown in the contingency table below. Conduct a chi-square test for independence to determine if there is a significant association between chocolate preference and country of origin. Use Significance Level 0.01\n",
    "\n",
    "\n",
    "\n"
   ]
  },
  {
   "cell_type": "code",
   "execution_count": 40,
   "id": "a5839457",
   "metadata": {},
   "outputs": [],
   "source": [
    "#                Milk Chocolate      Dark Chocolate       White Chocolate\n",
    "# U.S. (n=500)      200                  150                    150\n",
    "# U.K. (n=500)      225                  175                    100"
   ]
  },
  {
   "cell_type": "code",
   "execution_count": 41,
   "id": "ec1fa136",
   "metadata": {},
   "outputs": [
    {
     "name": "stdout",
     "output_type": "stream",
     "text": [
      "Chi-Square Statistic: 13.393665158371041\n",
      "p-value: 0.0012348168997745915\n",
      "Reject the null hypothesis: There is a significant association between chocolate preference and country of origin.\n"
     ]
    }
   ],
   "source": [
    "import numpy as np\n",
    "from scipy.stats import chi2_contingency\n",
    "\n",
    "# Create the contingency table\n",
    "observed_data = np.array([[200, 150, 150], [225, 175, 100]])\n",
    "\n",
    "# Perform the chi-square test for independence\n",
    "chi2_stat, p_value, dof, expected = chi2_contingency(observed_data)\n",
    "\n",
    "# Significance level\n",
    "alpha = 0.01\n",
    "\n",
    "# Print the results\n",
    "print(\"Chi-Square Statistic:\", chi2_stat)\n",
    "print(\"p-value:\", p_value)\n",
    "\n",
    "if p_value < alpha:\n",
    "    print(\"Reject the null hypothesis: There is a significant association between chocolate preference and country of origin.\")\n",
    "else:\n",
    "    print(\"Fail to reject the null hypothesis: There is no significant association between chocolate preference and country of origin.\")\n"
   ]
  },
  {
   "cell_type": "markdown",
   "id": "c5e79876",
   "metadata": {},
   "source": [
    "# A random sample of 30 people was selected from a population with an unknown mean and standard deviation. The sample mean was found to be 72 and the sample standard deviation was found to be 10. Conduct a hypothesis test to determine if the population mean is significantly different from 70. Use a significance level of 0.05.\n",
    "\n",
    "\n"
   ]
  },
  {
   "cell_type": "code",
   "execution_count": 42,
   "id": "ddabdc29",
   "metadata": {},
   "outputs": [
    {
     "name": "stdout",
     "output_type": "stream",
     "text": [
      "Calculated t-statistic: 1.0954451150103321\n",
      "Critical t-value: 2.045229642132703\n",
      "Fail to reject the null hypothesis: There is no significant difference in the population mean.\n"
     ]
    }
   ],
   "source": [
    "import scipy.stats as stats\n",
    "\n",
    "# Given values\n",
    "sample_mean = 72\n",
    "sample_std_dev = 10\n",
    "sample_size = 30\n",
    "population_mean_hypothesis = 70\n",
    "significance_level = 0.05\n",
    "\n",
    "# Calculate the t-statistic\n",
    "t_statistic = (sample_mean - population_mean_hypothesis) / (sample_std_dev / (sample_size ** 0.5))\n",
    "\n",
    "# Degrees of freedom for a one-sample t-test\n",
    "degrees_of_freedom = sample_size - 1\n",
    "\n",
    "# Calculate the critical t-value for the significance level\n",
    "t_critical = stats.t.ppf(1 - significance_level / 2, df=degrees_of_freedom)\n",
    "\n",
    "# Print the results\n",
    "print(\"Calculated t-statistic:\", t_statistic)\n",
    "print(\"Critical t-value:\", t_critical)\n",
    "\n",
    "# Compare t-statistic with critical t-value\n",
    "if abs(t_statistic) > t_critical:\n",
    "    print(\"Reject the null hypothesis: The population mean is significantly different from 70.\")\n",
    "else:\n",
    "    print(\"Fail to reject the null hypothesis: There is no significant difference in the population mean.\")\n"
   ]
  }
 ],
 "metadata": {
  "kernelspec": {
   "display_name": "Python 3 (ipykernel)",
   "language": "python",
   "name": "python3"
  },
  "language_info": {
   "codemirror_mode": {
    "name": "ipython",
    "version": 3
   },
   "file_extension": ".py",
   "mimetype": "text/x-python",
   "name": "python",
   "nbconvert_exporter": "python",
   "pygments_lexer": "ipython3",
   "version": "3.11.4"
  }
 },
 "nbformat": 4,
 "nbformat_minor": 5
}
